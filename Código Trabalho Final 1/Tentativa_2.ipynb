{
 "cells": [
  {
   "cell_type": "code",
   "execution_count": 1,
   "id": "51c83cd5",
   "metadata": {
    "lines_to_next_cell": 1,
    "title": "Importação"
   },
   "outputs": [],
   "source": [
    "\n",
    "import numpy as np\n",
    "import matplotlib.pyplot as plt\n",
    "from scipy.integrate import quad\n",
    "from scipy.stats import rice\n",
    "from scipy.stats import rayleigh\n",
    "from scipy.special import i0\n",
    "import jupytext"
   ]
  },
  {
   "cell_type": "code",
   "execution_count": 2,
   "id": "0dc1983e",
   "metadata": {
    "title": "Funções"
   },
   "outputs": [],
   "source": [
    "\n",
    "def ph_g_rayleigh(h, Ph=1):\n",
    "    g = h**2    \n",
    "    Ph_Rayleigh = ((1)/(Ph))*(np.exp((-g)/(Ph)))\n",
    "    return Ph_Rayleigh\n",
    "\n",
    "\n",
    "def ph_g_AWGN():\n",
    "    x = np.random.rand()\n",
    "    y = np.random.rand()\n",
    "    var_gauss = complex(x,y)\n",
    "    return var_gauss\n",
    "\n",
    "\n",
    "def PLd(d, alpha):\n",
    "    PLdj = C0lin*(d/d_0)**(-alpha)\n",
    "    PLdl = np.sqrt(PLdj)\n",
    "    return PLdl\n",
    "\n",
    "def R_OMA(Ganho):\n",
    "    R_OMA = (1/2)*np.log2(1+((Pt*Ganho)/((sigma2lin)**2)))\n",
    "    return R_OMA"
   ]
  },
  {
   "cell_type": "code",
   "execution_count": 3,
   "id": "8eae7e1e",
   "metadata": {
    "title": "Parâmetros"
   },
   "outputs": [],
   "source": [
    "\n",
    "\n",
    "N=10                   # Número de Antenas\n",
    "num_antennas = np.arange(0,N,1)\n",
    "M=40                    \n",
    "Pt = 1                  # Pot. Transmissão\n",
    "kappa_G=1.5\n",
    "kappa_d=0.5\n",
    "kappa_k=3.0\n",
    "kappa_Br=0.5\n",
    "alpha_G=2.0\n",
    "alpha_d=2.8\n",
    "alpha_k=2.8\n",
    "kappa_Bt=2.0\n",
    "lambda_k=5      #bps/Hz\n",
    "d_0=1           #m\n",
    "C0dB=-30        #dBm\n",
    "C0lin=10**((C0dB+30)/10)\n",
    "sigma2dB=-80    #dBm\n",
    "sigma2lin=10**((sigma2dB+30)/10)\n",
    "dG=70          #m\n",
    "dv=2           #m\n",
    "dk=20          #m\n",
    "dr = 60        #m\n",
    "dt = 10        #m"
   ]
  },
  {
   "cell_type": "code",
   "execution_count": 4,
   "id": "89b40f40",
   "metadata": {
    "lines_to_next_cell": 2,
    "title": "Fading"
   },
   "outputs": [
    {
     "name": "stderr",
     "output_type": "stream",
     "text": [
      "c:\\Users\\lzuec\\AppData\\Local\\Programs\\Python\\Python312\\Lib\\site-packages\\numpy\\lib\\function_base.py:5513: ComplexWarning: Casting complex values to real discards the imaginary part\n",
      "  values = array(values, copy=False, ndmin=arr.ndim, dtype=arr.dtype)\n"
     ]
    },
    {
     "name": "stdout",
     "output_type": "stream",
     "text": [
      "15.732861991174307\n",
      "\n",
      " 10.493554378314402\n"
     ]
    }
   ],
   "source": [
    "\n",
    "j=1\n",
    "k=1\n",
    "ii = 1000\n",
    "vetor_R_OMA_Br = np.array([])\n",
    "vetor_R_OMA_Bt = np.array([])\n",
    "vetor_media_R_OMA_Br = np.array([])\n",
    "vetor_media_R_OMA_Bt = np.array([])\n",
    "\n",
    "for i in range (1, N+1):\n",
    "    for ii in range(1, ii):\n",
    "\n",
    "        #dr = random.random()                                # Horizontal Distance entre UEr e STAR_RIS (Não tem valor)\n",
    "        #dt = random.random()                                # Horizontal Distance entre STAR_RIS e UEt (Não tem valor)\n",
    "        dSt = np.sqrt(dt**2 + dv**2)                        # d Star_RIS & UEt\n",
    "        dSr = np.sqrt(dr**2 + dv**2)                        # d STAR_RIS & UEr\n",
    "        dBr = np.sqrt((dG-dr)**2 + dv**2)*10**-2            # d BS & UEr Normalizado\n",
    "        dBt = np.sqrt((dG+dt)**2 + dv**2)*10**-2            # d BS & UEt Normalizado\n",
    "\n",
    "        # Fading BS-UEr (Rice usando soma das var. gaussianas)\n",
    "        hLoS_Br = ph_g_AWGN()\n",
    "        h2_Br = np.sqrt((kappa_Br)/(1+kappa_Br))*hLoS_Br\n",
    "        h3_Br = ph_g_rayleigh(dBr)\n",
    "        h4_Br = np.sqrt((kappa_Br)/(1+kappa_Br))*h3_Br\n",
    "        h5_Br = h2_Br+h4_Br\n",
    "        h_Br_result = (PLd(dBr,alpha_k)*h5_Br)           # Path_Los(d) * h\n",
    "        # Ganho BS->UEr (percurso hd)\n",
    "        wr = np.sqrt(Pt/(j))*((h_Br_result)/(np.conjugate(h_Br_result))) # w = inertia velocity weight\n",
    "        j=j+1 # Número de antenas (+1 a cada iteração)\n",
    "        Ganho_Br = (h_Br_result*wr)**2                   # Ganho = (h*w)²\n",
    "        # R_OMA (sem STAR_RIS)\n",
    "        R_OMA_Br_Result = R_OMA(Ganho_Br)                   # Resultado da eq de R_OMA definida na função \n",
    "        vetor_R_OMA_Br = np.insert(vetor_R_OMA_Br, 0,R_OMA_Br_Result)   # Alocação do resultado em um vetor\n",
    "\n",
    "        #Fading BS - UEt (Rayleigh)\n",
    "        h1_Bt = ph_g_rayleigh(dBt,1)                        # Fading hLos\n",
    "        h2_Bt = np.sqrt((kappa_Bt)/(1+kappa_Bt))*h1_Bt      # raiz quadrada média de kappa * hLos\n",
    "        hLoS_Bt_result = (PLd(dBt, alpha_k)*h2_Bt)          # Path_Los(d) * h  \n",
    "        # Ganho BS->UEt (percurso G+ht, mas sem a STAR_RIS)\n",
    "        wt = np.sqrt(Pt/(k))*((hLoS_Bt_result)/(np.conjugate(hLoS_Bt_result)))\n",
    "        k=k+1\n",
    "        Ganho_Bt = (hLoS_Bt_result*wt)**2                      # Ganho = h²\n",
    "        # R_OMA (sem STAR_RIS)\n",
    "        R_OMA_Bt_Result = R_OMA(Ganho_Bt)                   # Resultado da eq de R_OMA definida na função\n",
    "        vetor_R_OMA_Bt = np.insert(vetor_R_OMA_Bt, 0,R_OMA_Bt_Result)   # Alocação do resultado em um vetor\n",
    "      \n",
    "    # Médias para Br e Bt\n",
    "    media_R_OMA_Br = np.mean(vetor_R_OMA_Br)\n",
    "    vetor_media_R_OMA_Br = np.insert(vetor_media_R_OMA_Br, 0, media_R_OMA_Br)\n",
    "\n",
    "    media_R_OMA_Bt = np.mean(vetor_R_OMA_Bt)\n",
    "    vetor_media_R_OMA_Bt = np.insert(vetor_media_R_OMA_Bt, 0, media_R_OMA_Bt)\n",
    "\n",
    "media_da_media_Br = np.mean(vetor_media_R_OMA_Br)\n",
    "media_da_media_Bt = np.mean(vetor_media_R_OMA_Bt)\n",
    "\n",
    "print(f\"O valor ótimo médio de transmissão em [bps/Hz] para o usuário r é de: {media_da_media_Br}\")\n",
    "print(f\"\\n O valor ótimo médio de transmissão em [bps/Hz] para o usuário t é de: {media_da_media_Bt}\")"
   ]
  },
  {
   "cell_type": "code",
   "execution_count": null,
   "id": "70665413",
   "metadata": {
    "title": "Plotagem"
   },
   "outputs": [],
   "source": [
    "\n",
    "plt.figure(1)\n",
    "plt.plot(num_antennas, vetor_media_R_OMA_Br, '-bo', label = \"BS to User 'r' without STAR-RIS and Rician fading (OMA)\")\n",
    "# plt.scatter(num_antennas, vetor_media_R_OMA_Br)\n",
    "plt.plot(num_antennas, vetor_media_R_OMA_Bt, '-rx',label = \"BS to User 't' without STAR-RIS and Rayleigh fading (OMA)\")\n",
    "# plt.scatter(num_antennas, vetor_media_R_OMA_Bt)\n",
    "plt.legend(loc = \"center left\")\n",
    "plt.xlabel(\"Number of Antennas at the BS (N)\")\n",
    "plt.ylabel(\"Achievable Sum Rate(bps/Hz)\")\n",
    "plt.grid(True)\n",
    "plt.show()\n",
    "\n",
    "\n",
    "jupytext.write()"
   ]
  },
  {
   "cell_type": "code",
   "execution_count": null,
   "id": "bd8de8af",
   "metadata": {
    "lines_to_next_cell": 3
   },
   "outputs": [],
   "source": [
    "\"\"\"\n",
    "Sistema com 2Rx (um com Rayleigh (h1) e outro com Rice (h2))\n",
    "\n",
    "V 1) Implementar o fading (Rayleigh e Rice)\n",
    "V 2) Implementar PL(dj) para jogar dentro do fading total\n",
    "3) Implementar peso de velocidade de inércia (w)\n",
    "4) Rodar o código com as variáveis aleatórias N vezes;\n",
    "5) Implementar R_OMA e tirar a média das N iterações;\n",
    "6) Plotar ()\n",
    "\n",
    "\n",
    "OBS: \n",
    "a) Rayleigh é a soma de duas variáveis gaussianas;\n",
    "b) w é um vetor utilizado da BS até a STAR_RIS \n",
    "   (Sinal incidente (Ganho));\n",
    "c) Para o canal Rice pode-se usar a eq que está no artigo (?)\n",
    "d) Gerar hLoS (Gaussiana) e hNLoS (soma de 2 gaussiana);\n",
    "\n",
    "\n",
    "\n",
    "\n",
    "\n",
    "\n",
    "\"\"\""
   ]
  }
 ],
 "metadata": {
  "jupytext": {
   "cell_metadata_filter": "title,-all",
   "main_language": "python",
   "notebook_metadata_filter": "-all"
  },
  "kernelspec": {
   "display_name": "Python 3",
   "language": "python",
   "name": "python3"
  },
  "language_info": {
   "codemirror_mode": {
    "name": "ipython",
    "version": 3
   },
   "file_extension": ".py",
   "mimetype": "text/x-python",
   "name": "python",
   "nbconvert_exporter": "python",
   "pygments_lexer": "ipython3",
   "version": "3.12.3"
  }
 },
 "nbformat": 4,
 "nbformat_minor": 5
}

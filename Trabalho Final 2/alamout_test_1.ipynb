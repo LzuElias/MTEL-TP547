{
 "cells": [
  {
   "cell_type": "code",
   "execution_count": null,
   "id": "1a49865a",
   "metadata": {
    "lines_to_next_cell": 1
   },
   "outputs": [],
   "source": [
    "# import\n",
    "\n",
    "import numpy as np\n",
    "import matplotlib as plt"
   ]
  },
  {
   "cell_type": "code",
   "execution_count": null,
   "id": "517d8afd",
   "metadata": {
    "title": "Funções"
   },
   "outputs": [],
   "source": [
    "\n",
    "# Canal h\n",
    "def canal_h(alfa, theta):\n",
    "    h = alfa * np.exp((1j*theta))\n",
    "    return h\n",
    "\n",
    "# Distancia Euclidiana Quadrática\n",
    "def dist_euclid_quad (x, y):\n",
    "    d_2 = (x-y)*((np.conjugate(x))-(np.conjugate(y)))\n",
    "    return d_2\n",
    "\n",
    "# Rayleigh Fading\n",
    "def ph_g_rayleigh(h, Ph=1):\n",
    "    g = h**2    \n",
    "    Ph_Rayleigh = ((1)/(Ph))*(np.exp((-g)/(Ph)))\n",
    "    return Ph_Rayleigh"
   ]
  },
  {
   "cell_type": "code",
   "execution_count": null,
   "id": "f43ccbe7",
   "metadata": {
    "title": "Parâmetros"
   },
   "outputs": [],
   "source": [
    "\n",
    "t = np.linspace(0,30,2000)\n",
    "f1 = 30\n",
    "f2 = 80\n",
    "\n",
    "# Sinal\n",
    "signal_0 = np.exp(1j *2*np.pi*f1*t)\n",
    "signal_1 = np.exp(1j *2*np.pi*f2*t)\n",
    "signal_0_conj = np.conjugate(signal_0)\n",
    "signal_1_conj = np.conjugate(signal_1)\n",
    "\n",
    "# Módulo\n",
    "alfa_0 = 1\n",
    "alfa_1 = 0.5\n",
    "alfa_2 = 2\n",
    "alfa_3 = 0.8\n",
    "\n",
    "# Fase\n",
    "theta_0 = 0\n",
    "theta_1 = 60\n",
    "theta_2 = 80\n",
    "theta_3 = 135\n",
    "\n",
    "# Canais\n",
    "h_0 = canal_h(alfa_0, theta_0)\n",
    "h_0_conj = np.conjugate(h_0)\n",
    "h_1 = canal_h(alfa_1, theta_1)\n",
    "h_1_conj = np.conjugate(h_1)\n",
    "h_2 = canal_h(alfa_2, theta_2)\n",
    "h_2_conj = np.conjugate(h_2)\n",
    "h_3 = canal_h(alfa_3, theta_3)\n",
    "h_3_conj = np.conjugate(h_3)\n",
    "\n",
    "# Ruído\n",
    "n_0 = np.random.rand() + 1j*np.random.rand()\n",
    "n_2 = np.random.rand() + 1j*np.random.rand()\n",
    "n_1 = np.random.rand() + 1j*np.random.rand()\n",
    "n_3 = np.random.rand() + 1j*np.random.rand()"
   ]
  },
  {
   "cell_type": "code",
   "execution_count": null,
   "id": "56d4a17d",
   "metadata": {
    "lines_to_next_cell": 2,
    "title": "MRRC 1Tx 2Rx"
   },
   "outputs": [],
   "source": [
    "\n",
    "# Sinal no receptor\n",
    "r0_mmrc_2rx = (h_0*signal_0)+n_0\n",
    "r1_mmrc_2rx = (h_1*signal_0)+n_1\n",
    "\n",
    "# Sinal combinado mmrc\n",
    "s0_til_mmrc_2rx = ((alfa_0**2 + alfa_1**2)*signal_0) + (h_0_conj+n_0) + (h_1_conj*n_1)"
   ]
  },
  {
   "cell_type": "code",
   "execution_count": null,
   "id": "fbed4356",
   "metadata": {
    "title": "MRRC 1TX 4Rx"
   },
   "outputs": [],
   "source": [
    "\n",
    "\n",
    "\n",
    "\n",
    "\n"
   ]
  },
  {
   "cell_type": "code",
   "execution_count": null,
   "id": "fba3ae4d",
   "metadata": {
    "title": "New Scheme 2tx 1rx"
   },
   "outputs": [],
   "source": [
    "\n",
    "# Manda o sinal s0 e -s1* pelo canal h0 e o sinal\n",
    "# s1 e s0* pelo canal h1. Após a antena Rx são adicionados\n",
    "# os ruídos n0 e n1 gerando r0 e r1. Ambos são direcionados\n",
    "# para o estimador de canal, h0 e h1 são direcionados para o \n",
    "# o combinador e gera s0_til e s1_til. Tanto os sinais, quanto \n",
    "# os canais são direcionados para o detector de prob. máxima.\n",
    "\n",
    "# h0\n",
    "# h1\n",
    "\n",
    "r0_NS_2Tx = (h_0*signal_0)+(h_1*signal_1)+n_0\n",
    "r1_NS_2Tx = (-h_0*signal_1_conj)+(h_1*signal_0_conj)+n_1\n",
    "\n",
    "s0_til_NS_2Tx = (h_0_conj*r0_NS_2Tx) + (h_1*np.conjugate(r1_NS_2Tx))\n",
    "s1_til_NS_2Tx = (h_1_conj*r0_NS_2Tx) - (h_0*np.conjugate(r1_NS_2Tx))\n",
    "\n",
    "# Max Prob Decisor\n",
    "\n",
    "\n",
    "\n",
    "\n",
    "\n"
   ]
  },
  {
   "cell_type": "code",
   "execution_count": null,
   "id": "68055a57",
   "metadata": {
    "lines_to_next_cell": 2,
    "title": "New Scheme with 2Tx & 2Rx"
   },
   "outputs": [],
   "source": [
    "# Resultado da banda base\n",
    "r_0_NS_2Tx_2Rx = (h_0*signal_0)+(h_1*signal_1)+n_0\n",
    "r_1_NS_2Tx_2Rx = -(h_0*signal_1_conj)+(h_1*signal_0_conj)+(n_1)\n",
    "r_2_NS_2Tx_2Rx = (h_2*signal_0)+(h_3*signal_1)+(n_2)\n",
    "r_3_NS_2Tx_2Rx = -(h_2*signal_1_conj)+(h_3*signal_0)+(n_3)\n",
    "\n",
    "# Receiver combining scheme for two-branch\n",
    "\n",
    "#s_0_til = (np.conjugate(h_0)*r_0)+((h_1)*np.conjugate(r_1))\n",
    "#s_1_til = (np.conjugate(h_1)*r_0)-((h_0)*np.conjugate(r_1))\n",
    "s0_til_NS_2Tx_2Rx = ((alfa_0**2+alfa_1**2)*signal_0) + (h_0_conj*n_0) + (h_1*np.conjugate(n_1))\n",
    "s1_til_NS_2Tx_2Rx = ((alfa_0**2+alfa_1**2))-(h_0*np.conjugate(n_1))+(h_1_conj*n_0)"
   ]
  }
 ],
 "metadata": {
  "jupytext": {
   "cell_metadata_filter": "title,-all",
   "main_language": "python",
   "notebook_metadata_filter": "-all"
  }
 },
 "nbformat": 4,
 "nbformat_minor": 5
}
